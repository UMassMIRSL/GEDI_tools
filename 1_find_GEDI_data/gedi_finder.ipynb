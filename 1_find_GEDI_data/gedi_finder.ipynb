{
 "cells": [
  {
   "cell_type": "code",
   "execution_count": 1,
   "metadata": {},
   "outputs": [],
   "source": [
    "import geopandas as gpd\n",
    "import os"
   ]
  },
  {
   "cell_type": "code",
   "execution_count": 2,
   "metadata": {},
   "outputs": [
    {
     "name": "stdout",
     "output_type": "stream",
     "text": [
      "        minx       miny       maxx       maxy\n",
      "0 -72.292531  42.343362 -71.950207  42.692484\n"
     ]
    }
   ],
   "source": [
    "#give path to shapefile here\n",
    "cwd = os.getcwd()\n",
    "rootdir, subdir = os.path.split(cwd)\n",
    "\n",
    "#find shapefile\n",
    "shpdir = os.path.join(rootdir, '0_shapefile')\n",
    "shpfn = [f for f in os.listdir(shpdir) if f.endswith('.shp')][0]\n",
    "aa = gpd.read_file(os.path.join(shpdir, shpfn))\n",
    "print(aa.bounds)"
   ]
  },
  {
   "cell_type": "code",
   "execution_count": 13,
   "metadata": {},
   "outputs": [
    {
     "name": "stdout",
     "output_type": "stream",
     "text": [
      "https://lpdaacsvc.cr.usgs.gov/services/gedifinder?product=GEDI02_A&version=001&bbox=42.6924840484101,-72.2925311203327,42.3433620411625,-71.9502074688804&output=html\n"
     ]
    }
   ],
   "source": [
    "#construct the url for GEDI02_A product\n",
    "p1 = 'https://lpdaacsvc.cr.usgs.gov/services/gedifinder?'\n",
    "p2 = 'product=GEDI02_A&'\n",
    "p3 = 'version=001&'\n",
    "p4 = 'bbox='+ str(aa.bounds[\"maxy\"][0])+','+str(aa.bounds[\"minx\"][0])+',' + str(aa.bounds[\"miny\"][0])+',' + str(aa.bounds[\"maxx\"][0])+'&'\n",
    "p5 = 'output=html'\n",
    "\n",
    "print(p1+p2+p3+p4+p5)"
   ]
  },
  {
   "cell_type": "code",
   "execution_count": null,
   "metadata": {},
   "outputs": [],
   "source": [
    "#It is important to note that: the shapefile coordinates may be within the GEDI search box:\n",
    "#(0) This is because shapefile doesn't have to be a rectangle, but the GEDI search tool only uses topleft and lowest right corner to make the bbox\n",
    "#(1) Therefore, h5 data may be returned which has no interecting points with our roi\n",
    "#(2) Also, the h5 results are not filtered by whether data was actually recorded or good quality, and it is possible that there will be no usable data (e.g. all relative heights are zero)\n",
    "# https://e4ftl01.cr.usgs.gov/GEDI/GEDI02_A.001/2019.10.01/GEDI02_A_2019274192207_O04548_T03948_02_001_01.h5\n",
    "# https://e4ftl01.cr.usgs.gov/GEDI/GEDI02_A.001/2019.09.26/GEDI02_A_2019269031240_O04460_T02957_02_001_01.h5\n",
    "# https://e4ftl01.cr.usgs.gov/GEDI/GEDI02_A.001/2019.09.05/GEDI02_A_2019248055650_O04136_T02066_02_001_01.h5\n",
    "# https://e4ftl01.cr.usgs.gov/GEDI/GEDI02_A.001/2019.09.03/GEDI02_A_2019246121050_O04109_T04380_02_001_01.h5\n",
    "# https://e4ftl01.cr.usgs.gov/GEDI/GEDI02_A.001/2019.08.17/GEDI02_A_2019229131935_O03846_T03642_02_001_01.h5\n",
    "# https://e4ftl01.cr.usgs.gov/GEDI/GEDI02_A.001/2019.08.15/GEDI02_A_2019227193328_O03819_T01840_02_001_01.h5\n",
    "# https://e4ftl01.cr.usgs.gov/GEDI/GEDI02_A.001/2019.08.02/GEDI02_A_2019214191139_O03617_T00643_02_001_01.h5\n",
    "# https://e4ftl01.cr.usgs.gov/GEDI/GEDI02_A.001/2019.08.01/GEDI02_A_2019213012634_O03590_T04227_02_001_01.h5\n",
    "# https://e4ftl01.cr.usgs.gov/GEDI/GEDI02_A.001/2019.07.08/GEDI02_A_2019189051702_O03220_T01102_02_001_01.h5\n",
    "# https://e4ftl01.cr.usgs.gov/GEDI/GEDI02_A.001/2019.06.23/GEDI02_A_2019174111155_O02991_T03336_02_001_01.h5\n",
    "# https://e4ftl01.cr.usgs.gov/GEDI/GEDI02_A.001/2019.06.21/GEDI02_A_2019172172710_O02964_T04074_02_001_01.h5\n",
    "# https://e4ftl01.cr.usgs.gov/GEDI/GEDI02_A.001/2019.06.12/GEDI02_A_2019163152638_O02823_T03795_02_001_01.h5\n",
    "# https://e4ftl01.cr.usgs.gov/GEDI/GEDI02_A.001/2019.06.10/GEDI02_A_2019161214150_O02796_T03110_02_001_01.h5"
   ]
  }
 ],
 "metadata": {
  "kernelspec": {
   "display_name": "Python 3",
   "language": "python",
   "name": "python3"
  },
  "language_info": {
   "codemirror_mode": {
    "name": "ipython",
    "version": 3
   },
   "file_extension": ".py",
   "mimetype": "text/x-python",
   "name": "python",
   "nbconvert_exporter": "python",
   "pygments_lexer": "ipython3",
   "version": "3.7.5"
  }
 },
 "nbformat": 4,
 "nbformat_minor": 4
}
